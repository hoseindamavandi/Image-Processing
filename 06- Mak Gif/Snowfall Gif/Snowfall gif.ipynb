{
 "cells": [
  {
   "cell_type": "code",
   "execution_count": 50,
   "id": "0be22ecc-0f35-48dd-89d9-c4b4023ef53c",
   "metadata": {},
   "outputs": [],
   "source": [
    "import cv2\n",
    "import random\n",
    "import imageio\n",
    "import matplotlib.pyplot as plt\n",
    "import os"
   ]
  },
  {
   "cell_type": "code",
   "execution_count": 51,
   "id": "d7bb9501-7d38-4152-b931-9e71bf74e8db",
   "metadata": {},
   "outputs": [],
   "source": [
    "background = cv2.imread('christmas-tree.jpeg')\n",
    "rows , cols , _ = background.shape"
   ]
  },
  {
   "cell_type": "code",
   "execution_count": 52,
   "id": "8e9750cc-cde7-4e58-927b-da7beb129fb1",
   "metadata": {},
   "outputs": [],
   "source": [
    "SNOWS_LIST = []\n",
    "\n",
    "for i in range(100):\n",
    "    snow = [random.randint(0,rows),    #y\n",
    "            random.randint(0,cols),    #x\n",
    "            random.randint(1,2),       #r\n",
    "            random.randint(0,2),       #mode\n",
    "            random.randint(2,8)]       #speed\n",
    "    SNOWS_LIST.append(snow)\n",
    "    #cv2.circle(background, (snow[1], snow[0]), snow[2], (255,255,255), -1)\n",
    "    \n",
    "#cv2.imwrite('sample.jpg', background);"
   ]
  },
  {
   "cell_type": "code",
   "execution_count": 53,
   "id": "b6216415-e023-429e-8829-e48c055b9d9e",
   "metadata": {},
   "outputs": [],
   "source": [
    "for i in range(100):\n",
    "    back = cv2.imread('christmas-tree.jpeg')\n",
    "    for snow in SNOWS_LIST:\n",
    "\n",
    "        snow[0] += snow[4]\n",
    "\n",
    "        if snow[3] == 0:      #down\n",
    "            pass\n",
    "\n",
    "        elif snow[3] == 1:    #down-right\n",
    "            snow[0] += snow[4]\n",
    "\n",
    "        elif snow[3] == 2:    #down-left\n",
    "            snow[0] -= snow[4]\n",
    "\n",
    "        cv2.circle(back, (snow[1], snow[0]), snow[2], (255,255,255), -1)\n",
    "        \n",
    "    cv2.imwrite(f'snowgifphotos/{i}.jpg' , back)"
   ]
  },
  {
   "cell_type": "code",
   "execution_count": 55,
   "id": "ca30b29b-9164-4846-87a1-be7a137ef4df",
   "metadata": {},
   "outputs": [],
   "source": [
    "files = os.listdir('snowgifphotos')\n",
    "images = []\n",
    "\n",
    "for i in range(len(files)):\n",
    "    image = imageio.imread('snowgifphotos/'+files[i])\n",
    "    images.append(image)\n",
    "    \n",
    "imageio.mimsave('snowfall.gif', images)"
   ]
  },
  {
   "cell_type": "code",
   "execution_count": null,
   "id": "81a2267d-36b6-49b9-8a23-76983bbb2cf8",
   "metadata": {},
   "outputs": [],
   "source": []
  }
 ],
 "metadata": {
  "kernelspec": {
   "display_name": "Python 3 (ipykernel)",
   "language": "python",
   "name": "python3"
  },
  "language_info": {
   "codemirror_mode": {
    "name": "ipython",
    "version": 3
   },
   "file_extension": ".py",
   "mimetype": "text/x-python",
   "name": "python",
   "nbconvert_exporter": "python",
   "pygments_lexer": "ipython3",
   "version": "3.9.7"
  }
 },
 "nbformat": 4,
 "nbformat_minor": 5
}
